{
 "cells": [
  {
   "cell_type": "code",
   "execution_count": 1,
   "metadata": {},
   "outputs": [],
   "source": [
    "import torch\n",
    "import torch.nn.functional as F\n",
    "import matplotlib.pyplot as plt\n",
    "%matplotlib inline\n"
   ]
  },
  {
   "cell_type": "code",
   "execution_count": 3,
   "metadata": {},
   "outputs": [
    {
     "name": "stdout",
     "output_type": "stream",
     "text": [
      "32033\n",
      "15\n",
      "['emma', 'olivia', 'ava', 'isabella', 'sophia', 'charlotte', 'mia', 'amelia']\n"
     ]
    }
   ],
   "source": [
    "words = open(\"names.txt\", \"r\").read().splitlines()\n",
    "print(len(words))\n",
    "print(max(len(word) for word in words))\n",
    "print(words[:8])\n"
   ]
  },
  {
   "cell_type": "code",
   "execution_count": 4,
   "metadata": {},
   "outputs": [
    {
     "name": "stdout",
     "output_type": "stream",
     "text": [
      "{1: 'a', 2: 'b', 3: 'c', 4: 'd', 5: 'e', 6: 'f', 7: 'g', 8: 'h', 9: 'i', 10: 'j', 11: 'k', 12: 'l', 13: 'm', 14: 'n', 15: 'o', 16: 'p', 17: 'q', 18: 'r', 19: 's', 20: 't', 21: 'u', 22: 'v', 23: 'w', 24: 'x', 25: 'y', 26: 'z', 0: '.'}\n",
      "27\n"
     ]
    }
   ],
   "source": [
    "chars = sorted(set(\"\".join(words)))\n",
    "stoi = {s: i + 1 for i, s in enumerate(chars)}\n",
    "stoi[\".\"] = 0\n",
    "itos = {i: s for s, i in stoi.items()}\n",
    "vocab_size = len(itos)\n",
    "print(itos)\n",
    "print(vocab_size)\n"
   ]
  },
  {
   "cell_type": "code",
   "execution_count": 5,
   "metadata": {},
   "outputs": [],
   "source": [
    "import random\n",
    "\n",
    "random.seed(42)\n",
    "random.shuffle(words)\n"
   ]
  },
  {
   "cell_type": "code",
   "execution_count": 35,
   "metadata": {},
   "outputs": [
    {
     "name": "stdout",
     "output_type": "stream",
     "text": [
      "torch.Size([182437, 8]) torch.Size([182437])\n",
      "torch.Size([22781, 8]) torch.Size([22781])\n",
      "torch.Size([22928, 8]) torch.Size([22928])\n"
     ]
    }
   ],
   "source": [
    "block_size = 8\n",
    "\n",
    "\n",
    "def build_dataset(words: list[str]):\n",
    "    X, Y = [], []\n",
    "\n",
    "    for word in words:\n",
    "        context = [0] * block_size\n",
    "\n",
    "        for char in word + \".\":\n",
    "            ix = stoi[char]\n",
    "            X.append(context)\n",
    "            Y.append(ix)\n",
    "            context = context[1:] + [ix]\n",
    "\n",
    "    X, Y = torch.tensor(X), torch.tensor(Y)\n",
    "    print(X.shape, Y.shape)\n",
    "\n",
    "    return X, Y\n",
    "\n",
    "\n",
    "import random\n",
    "\n",
    "random.seed(42)\n",
    "random.shuffle(words)\n",
    "n1 = int(0.8 * len(words))\n",
    "n2 = int(0.9 * len(words))\n",
    "\n",
    "X_train, Y_train = build_dataset(words[:n1])\n",
    "X_dev, Y_dev = build_dataset(words[n1:n2])\n",
    "X_test, Y_test = build_dataset(words[n2:])\n"
   ]
  },
  {
   "cell_type": "code",
   "execution_count": 36,
   "metadata": {},
   "outputs": [
    {
     "name": "stdout",
     "output_type": "stream",
     "text": [
      "........ ---> t\n",
      ".......t ---> a\n",
      "......ta ---> u\n",
      ".....tau ---> r\n",
      "....taur ---> e\n",
      "...taure ---> n\n",
      "..tauren ---> .\n",
      "........ ---> s\n",
      ".......s ---> u\n",
      "......su ---> l\n",
      ".....sul ---> e\n",
      "....sule ---> m\n",
      "...sulem ---> a\n",
      "..sulema ---> n\n",
      ".suleman ---> .\n",
      "........ ---> z\n",
      ".......z ---> e\n",
      "......ze ---> r\n",
      ".....zer ---> e\n",
      "....zere ---> n\n"
     ]
    }
   ],
   "source": [
    "for x, y in zip(X_train[:20], Y_train[:20]):\n",
    "    print(\"\".join(itos[int(ix.item())] for ix in x), \"--->\", itos[int(y.item())])\n"
   ]
  },
  {
   "cell_type": "code",
   "execution_count": 57,
   "metadata": {},
   "outputs": [],
   "source": [
    "from typing import Callable\n",
    "\n",
    "\n",
    "class Linear:\n",
    "    weight: torch.Tensor\n",
    "    bias: torch.Tensor | None\n",
    "\n",
    "    def __init__(self, fan_in: int, fan_out: int, bias=True) -> None:\n",
    "        self.weight = torch.randn((fan_in, fan_out)) / fan_in**0.5  # kaiming init\n",
    "        self.bias = torch.zeros(fan_out) if bias else None\n",
    "\n",
    "    def __call__(self, x: torch.Tensor) -> torch.Tensor:\n",
    "        self.out = x @ self.weight\n",
    "\n",
    "        if self.bias is not None:\n",
    "            self.out += self.bias\n",
    "\n",
    "        return self.out\n",
    "\n",
    "    def parameters(self) -> list[torch.Tensor]:\n",
    "        return [self.weight] + ([] if self.bias is None else [self.bias])\n",
    "\n",
    "\n",
    "class BatchNorm1d:\n",
    "    eps: float\n",
    "    momentum: float\n",
    "    training: bool\n",
    "\n",
    "    gamma: torch.Tensor\n",
    "    beta: torch.Tensor\n",
    "\n",
    "    running_mean: torch.Tensor\n",
    "    running_var: torch.Tensor\n",
    "\n",
    "    def __init__(self, dim: int, eps=1e-5, momentum=0.1) -> None:\n",
    "        self.eps = eps\n",
    "        self.momentum = momentum\n",
    "        self.training = True\n",
    "\n",
    "        # parameters (trained with backprop)\n",
    "        self.gamma = torch.ones(dim)\n",
    "        self.beta = torch.zeros(dim)\n",
    "\n",
    "        # buffers (trained with a running \"momentum update\")\n",
    "        self.running_mean = torch.zeros(dim)\n",
    "        self.running_var = torch.ones(dim)\n",
    "\n",
    "    def __call__(self, x: torch.Tensor) -> torch.Tensor:\n",
    "        # calculate the forward pass\n",
    "        if self.training:\n",
    "            if x.ndim == 2:\n",
    "                dim = 0\n",
    "            elif x.ndim == 3:\n",
    "                dim = (0, 1)\n",
    "            else:\n",
    "                raise ValueError(\"Dim invalid\")\n",
    "            xmean = x.mean(dim, keepdim=True)  # batch mean\n",
    "            xvar = x.var(dim, keepdim=True)  # batch variance\n",
    "        else:\n",
    "            xmean = self.running_mean\n",
    "            xvar = self.running_var\n",
    "\n",
    "        xhat = (x - xmean) / torch.sqrt(xvar + self.eps)  # normalize to unit variance\n",
    "        self.out = self.gamma * xhat + self.beta\n",
    "\n",
    "        # update the buffers\n",
    "        if self.training:\n",
    "            with torch.no_grad():\n",
    "                self.running_mean = (\n",
    "                    1 - self.momentum\n",
    "                ) * self.running_mean + self.momentum * xmean\n",
    "                self.running_var = (\n",
    "                    1 - self.momentum\n",
    "                ) * self.running_var + self.momentum * xvar\n",
    "\n",
    "        return self.out\n",
    "\n",
    "    def parameters(self) -> list[torch.Tensor]:\n",
    "        return [self.gamma, self.beta]\n",
    "\n",
    "\n",
    "class Tanh:\n",
    "    def __call__(self, x: torch.Tensor) -> torch.Tensor:\n",
    "        self.out = torch.tanh(x)\n",
    "        return self.out\n",
    "\n",
    "    def parameters(self) -> list[torch.Tensor]:\n",
    "        return []\n",
    "\n",
    "\n",
    "class Embedding:\n",
    "    weight: torch.Tensor\n",
    "\n",
    "    def __init__(self, num_embeddings: int, embedding_dim: int) -> None:\n",
    "        self.weight = torch.randn((num_embeddings, embedding_dim))\n",
    "\n",
    "    def __call__(self, IX: torch.Tensor) -> torch.Tensor:\n",
    "        self.out = self.weight[IX]\n",
    "        return self.out\n",
    "\n",
    "    def parameters(self) -> list[torch.Tensor]:\n",
    "        return [self.weight]\n",
    "\n",
    "\n",
    "class FlattenConsecutive:\n",
    "    n: int\n",
    "\n",
    "    def __init__(self, n: int) -> None:\n",
    "        self.n = n\n",
    "\n",
    "    def __call__(self, x: torch.Tensor) -> torch.Tensor:\n",
    "        B, T, C = x.shape\n",
    "        out = x.view((B, T // self.n, C * self.n))\n",
    "\n",
    "        if out.shape[1] == 1:\n",
    "            out = out.squeeze(1)\n",
    "\n",
    "        self.out = out\n",
    "\n",
    "        return self.out\n",
    "\n",
    "    def parameters(self) -> list[torch.Tensor]:\n",
    "        return []\n",
    "\n",
    "\n",
    "class Sequential:\n",
    "    layers: list[Callable[[torch.Tensor], torch.Tensor]]\n",
    "\n",
    "    def __init__(self, layers: list[Callable[[torch.Tensor], torch.Tensor]]) -> None:\n",
    "        self.layers = layers\n",
    "\n",
    "    def __call__(self, x: torch.Tensor) -> torch.Tensor:\n",
    "        for layer in self.layers:\n",
    "            x = layer(x)\n",
    "        self.out = x\n",
    "\n",
    "        return self.out\n",
    "\n",
    "    def parameters(self) -> list[torch.Tensor]:\n",
    "        return [p for layer in self.layers for p in layer.parameters()]\n"
   ]
  },
  {
   "cell_type": "code",
   "execution_count": 58,
   "metadata": {},
   "outputs": [
    {
     "data": {
      "text/plain": [
       "<torch._C.Generator at 0x109ccb1b0>"
      ]
     },
     "execution_count": 58,
     "metadata": {},
     "output_type": "execute_result"
    }
   ],
   "source": [
    "torch.manual_seed(42)"
   ]
  },
  {
   "cell_type": "code",
   "execution_count": 59,
   "metadata": {},
   "outputs": [
    {
     "name": "stdout",
     "output_type": "stream",
     "text": [
      "76579\n"
     ]
    }
   ],
   "source": [
    "n_embd = 24  # the dimensionality of the character embedding vectors\n",
    "n_hidden = 128  # the number of neurons in the hidden layer of the MLP\n",
    "\n",
    "model = Sequential(\n",
    "    [\n",
    "        Embedding(vocab_size, n_embd),\n",
    "        FlattenConsecutive(2),\n",
    "        Linear(n_embd * 2, n_hidden, bias=False),\n",
    "        BatchNorm1d(n_hidden),\n",
    "        Tanh(),\n",
    "        FlattenConsecutive(2),\n",
    "        Linear(n_hidden * 2, n_hidden, bias=False),\n",
    "        BatchNorm1d(n_hidden),\n",
    "        Tanh(),\n",
    "        FlattenConsecutive(2),\n",
    "        Linear(n_hidden * 2, n_hidden, bias=False),\n",
    "        BatchNorm1d(n_hidden),\n",
    "        Tanh(),\n",
    "        Linear(n_hidden, vocab_size),\n",
    "    ]\n",
    ")\n",
    "\n",
    "with torch.no_grad():\n",
    "    # last layer: make less confident\n",
    "    model.layers[-1].weight *= 0.1\n",
    "\n",
    "parameters = model.parameters()\n",
    "print(sum(p.nelement() for p in parameters))\n",
    "for p in parameters:\n",
    "    p.requires_grad = True"
   ]
  },
  {
   "cell_type": "code",
   "execution_count": 60,
   "metadata": {},
   "outputs": [
    {
     "name": "stdout",
     "output_type": "stream",
     "text": [
      "      0/ 200000: 3.2888\n",
      "  10000/ 200000: 2.6163\n",
      "  20000/ 200000: 1.7328\n",
      "  30000/ 200000: 2.3085\n",
      "  40000/ 200000: 2.0895\n",
      "  50000/ 200000: 2.1864\n",
      "  60000/ 200000: 1.8070\n",
      "  70000/ 200000: 2.1077\n",
      "  80000/ 200000: 1.9874\n",
      "  90000/ 200000: 2.3168\n",
      " 100000/ 200000: 2.0621\n",
      " 110000/ 200000: 2.0186\n",
      " 120000/ 200000: 1.9309\n",
      " 130000/ 200000: 1.7348\n",
      " 140000/ 200000: 2.2696\n",
      " 150000/ 200000: 1.6274\n",
      " 160000/ 200000: 1.3495\n",
      " 170000/ 200000: 1.8637\n",
      " 180000/ 200000: 2.1606\n",
      " 190000/ 200000: 1.8830\n"
     ]
    }
   ],
   "source": [
    "# same optimization as last time\n",
    "max_steps = 200_000\n",
    "batch_size = 32\n",
    "lossi = []\n",
    "\n",
    "for i in range(max_steps):\n",
    "    # minibatch construct\n",
    "    ix = torch.randint(0, X_train.shape[0], (batch_size,))\n",
    "    Xb, Yb = X_train[ix], Y_train[ix]\n",
    "\n",
    "    # forward pass\n",
    "    logits = model(Xb)\n",
    "    loss = F.cross_entropy(logits, Yb)  # loss function\n",
    "\n",
    "    # backward pass\n",
    "    # for layer in layers:\n",
    "    #     layer.out.retain_grad()  # AFTER DEBUG: Would take out retain_graph\n",
    "    for p in parameters:\n",
    "        p.grad = None\n",
    "    loss.backward()\n",
    "\n",
    "    # update\n",
    "    lr = 0.1 if i < 150_000 else 0.01  # step learning rate decay\n",
    "    for p in parameters:\n",
    "        assert p.grad is not None\n",
    "        p.data += -lr * p.grad\n",
    "\n",
    "    # track stats\n",
    "    if i % 10_000 == 0:  # print every once in a while\n",
    "        print(f\"{i:7d}/{max_steps:7d}: {loss.item():.4f}\")\n",
    "    lossi.append(loss.log10().item())\n"
   ]
  },
  {
   "cell_type": "code",
   "execution_count": 61,
   "metadata": {},
   "outputs": [
    {
     "name": "stdout",
     "output_type": "stream",
     "text": [
      "Embedding : (32, 8, 24)\n",
      "FlattenConsecutive : (32, 4, 48)\n",
      "Linear : (32, 4, 128)\n",
      "BatchNorm1d : (32, 4, 128)\n",
      "Tanh : (32, 4, 128)\n",
      "FlattenConsecutive : (32, 2, 256)\n",
      "Linear : (32, 2, 128)\n",
      "BatchNorm1d : (32, 2, 128)\n",
      "Tanh : (32, 2, 128)\n",
      "FlattenConsecutive : (32, 256)\n",
      "Linear : (32, 128)\n",
      "BatchNorm1d : (32, 128)\n",
      "Tanh : (32, 128)\n",
      "Linear : (32, 27)\n"
     ]
    }
   ],
   "source": [
    "for layer in model.layers:\n",
    "    print(layer.__class__.__name__, \":\", tuple(layer.out.shape))\n"
   ]
  },
  {
   "cell_type": "code",
   "execution_count": 62,
   "metadata": {},
   "outputs": [
    {
     "data": {
      "text/plain": [
       "[<matplotlib.lines.Line2D at 0x1292029e0>]"
      ]
     },
     "execution_count": 62,
     "metadata": {},
     "output_type": "execute_result"
    },
    {
     "data": {
      "image/png": "[encoded data removed]",
      "text/plain": [
       "<Figure size 640x480 with 1 Axes>"
      ]
     },
     "metadata": {},
     "output_type": "display_data"
    }
   ],
   "source": [
    "plt.plot(torch.tensor(lossi).view((-1, 1000)).mean(1))"
   ]
  },
  {
   "cell_type": "code",
   "execution_count": 63,
   "metadata": {},
   "outputs": [],
   "source": [
    "for layer in model.layers:\n",
    "    layer.training = False"
   ]
  },
  {
   "cell_type": "code",
   "execution_count": 64,
   "metadata": {},
   "outputs": [
    {
     "name": "stdout",
     "output_type": "stream",
     "text": [
      "train 1.766410231590271\n",
      "val 2.0025136470794678\n"
     ]
    }
   ],
   "source": [
    "@torch.no_grad()  # this decorator disables gradient tracking\n",
    "def split_loss(split):\n",
    "    x, y = {\n",
    "        \"train\": (X_train, Y_train),\n",
    "        \"val\": (X_dev, Y_dev),\n",
    "        \"test\": (X_test, Y_test),\n",
    "    }[split]\n",
    "    logits = model(x)\n",
    "    loss = F.cross_entropy(logits, y)\n",
    "    print(split, loss.item())\n",
    "\n",
    "\n",
    "split_loss(\"train\")\n",
    "split_loss(\"val\")\n"
   ]
  },
  {
   "cell_type": "code",
   "execution_count": 65,
   "metadata": {},
   "outputs": [
    {
     "name": "stdout",
     "output_type": "stream",
     "text": [
      "apoljoe\n",
      "otta\n",
      "heagon\n",
      "javye\n",
      "meela\n",
      "waiden\n",
      "airahro\n",
      "claris\n",
      "brennen\n",
      "blayta\n",
      "arah\n",
      "astacia\n",
      "annayveon\n",
      "zayely\n",
      "cassedin\n",
      "letmit\n",
      "dawdeng\n",
      "gian\n",
      "nataliya\n",
      "carmela\n"
     ]
    }
   ],
   "source": [
    "for _ in range(20):\n",
    "    out = []\n",
    "    context = [0] * block_size  # initialize with all ...\n",
    "    while True:\n",
    "        # ------------\n",
    "        # forward pass:\n",
    "        logits = model(torch.tensor([context]))\n",
    "        # ------------\n",
    "        # Sample\n",
    "        probs = F.softmax(logits, dim=1)\n",
    "        ix = torch.multinomial(probs, num_samples=1).item()\n",
    "        context = context[1:] + [ix]\n",
    "        if ix == 0:\n",
    "            break\n",
    "        out.append(ix)\n",
    "\n",
    "    print(\"\".join(itos[i] for i in out))\n"
   ]
  },
  {
   "cell_type": "code",
   "execution_count": null,
   "metadata": {},
   "outputs": [],
   "source": []
  }
 ],
 "metadata": {
  "kernelspec": {
   "display_name": "makemore",
   "language": "python",
   "name": "python3"
  },
  "language_info": {
   "codemirror_mode": {
    "name": "ipython",
    "version": 3
   },
   "file_extension": ".py",
   "mimetype": "text/x-python",
   "name": "python",
   "nbconvert_exporter": "python",
   "pygments_lexer": "ipython3",
   "version": "3.10.11"
  },
  "orig_nbformat": 4
 },
 "nbformat": 4,
 "nbformat_minor": 2
}
